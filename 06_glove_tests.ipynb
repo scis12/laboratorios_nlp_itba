{
 "cells": [
  {
   "cell_type": "code",
   "execution_count": 1,
   "metadata": {
    "colab": {
     "base_uri": "https://localhost:8080/"
    },
    "id": "v-mvGMujSz8W",
    "outputId": "d34685a2-1493-428b-a5e9-f7fef6a54d4f"
   },
   "outputs": [
    {
     "name": "stdout",
     "output_type": "stream",
     "text": [
      "Mounted at /content/drive\n"
     ]
    }
   ],
   "source": [
    "from google.colab import drive\n",
    "drive.mount('/content/drive')"
   ]
  },
  {
   "cell_type": "markdown",
   "metadata": {
    "id": "O-pmzBsoTA92"
   },
   "source": [
    "Agregar este archivo a la carpeta de google drive clickeando en el link y clickeando el '+' arriba a la derecha\n",
    "\n",
    "https://drive.google.com/open?id=1jJ20oNZIysi-V-iORAE0eEZq4LhuWxUW"
   ]
  },
  {
   "cell_type": "code",
   "execution_count": 2,
   "metadata": {
    "id": "kfTcbRdGVRj4"
   },
   "outputs": [],
   "source": [
    "import codecs\n",
    "import numpy as np"
   ]
  },
  {
   "cell_type": "code",
   "execution_count": null,
   "metadata": {
    "id": "JUUN3Z3BRO5_"
   },
   "outputs": [],
   "source": [
    "# ! wget http://nlp.stanford.edu/data/glove.6B.zip"
   ]
  },
  {
   "cell_type": "code",
   "execution_count": null,
   "metadata": {
    "id": "2aoTi2n7RQtS"
   },
   "outputs": [],
   "source": [
    "# ! unzip glove.6B.zip"
   ]
  },
  {
   "cell_type": "code",
   "execution_count": 3,
   "metadata": {
    "id": "Z8AzLFXZUTCw"
   },
   "outputs": [],
   "source": [
    "EMBEDDING_DIR = \"/content/drive/MyDrive/Colab Notebooks/\"\n",
    "# EMBEDDING_DIR = \"./\"\n"
   ]
  },
  {
   "cell_type": "code",
   "execution_count": 4,
   "metadata": {
    "id": "AsO8d8w6TxBh"
   },
   "outputs": [],
   "source": [
    "def load_embeddings(file, embed_dim=100):\n",
    "  #load embeddings\n",
    "\n",
    "  print('loading word embeddings...')\n",
    "  embeddings_index = {}\n",
    "  f = codecs.open(EMBEDDING_DIR+'glove.6B.100d.txt', encoding='utf-8')\n",
    "  for line in f:\n",
    "      values = line.rstrip().rsplit(' ')\n",
    "      word = values[0]\n",
    "      coefs = np.asarray(values[1:], dtype='float32')\n",
    "      embeddings_index[word] = coefs\n",
    "  f.close()\n",
    "  print('found %s word vectors' % len(embeddings_index))\n",
    "  return embeddings_index"
   ]
  },
  {
   "cell_type": "code",
   "execution_count": 5,
   "metadata": {
    "colab": {
     "base_uri": "https://localhost:8080/"
    },
    "id": "iG3clQ-EUPV5",
    "outputId": "60b79cf7-2d1d-4378-dca3-22f4a3db27a8"
   },
   "outputs": [
    {
     "name": "stdout",
     "output_type": "stream",
     "text": [
      "loading word embeddings...\n",
      "found 400000 word vectors\n"
     ]
    }
   ],
   "source": [
    "# embeddings_index = load_embeddings(EMBEDDING_DIR+'glove.6B.300d.txt', embed_dim=300)\n",
    "embeddings_index = load_embeddings(EMBEDDING_DIR+'glove.6B.100d.txt')"
   ]
  },
  {
   "cell_type": "code",
   "execution_count": 31,
   "metadata": {
    "colab": {
     "base_uri": "https://localhost:8080/"
    },
    "id": "fPVdy30jA8bV",
    "outputId": "7f329c8d-98bb-452a-96c0-e7fd6414a18b"
   },
   "outputs": [
    {
     "data": {
      "text/plain": [
       "array([ 0.13019 ,  0.080869,  0.75981 ,  0.35967 , -0.068252,  0.10289 ,\n",
       "       -0.063927,  0.90959 , -0.62336 , -0.55781 ,  0.55251 , -0.032792,\n",
       "       -1.288   ,  0.61657 ,  0.2874  ,  0.23099 ,  0.63026 ,  0.52095 ,\n",
       "        0.50664 ,  0.21397 ,  0.49915 ,  0.87644 ,  0.39068 ,  1.7113  ,\n",
       "        0.16032 , -0.63187 ,  0.18097 , -0.80707 ,  1.2967  , -0.11002 ,\n",
       "       -0.66348 ,  0.37672 , -0.20718 ,  0.23559 ,  0.32115 , -0.23775 ,\n",
       "        0.53434 , -0.41461 , -0.91281 , -0.8219  , -0.11099 , -0.77252 ,\n",
       "        0.77354 , -0.61089 ,  1.1716  ,  0.17805 ,  0.4485  ,  0.2398  ,\n",
       "       -0.59797 , -0.67081 , -0.50531 ,  1.1306  , -0.73514 ,  0.82947 ,\n",
       "       -0.47211 , -1.476   , -0.80475 , -0.56387 ,  0.38613 ,  0.9453  ,\n",
       "       -0.43158 ,  0.028097,  0.013157, -0.80905 ,  0.65331 , -0.015957,\n",
       "       -0.90056 ,  0.21147 ,  0.33468 ,  0.035701,  0.78394 ,  0.7408  ,\n",
       "       -0.45481 , -0.20872 ,  0.33741 ,  0.10348 , -0.086216,  0.061947,\n",
       "       -0.75093 ,  0.50365 ,  0.95803 ,  0.26411 , -0.7629  , -0.19461 ,\n",
       "       -0.11968 , -0.42482 , -1.2877  ,  1.2477  , -0.46512 , -0.90935 ,\n",
       "       -0.054317, -0.27775 , -0.46558 , -0.1864  , -0.73809 ,  0.89747 ,\n",
       "       -0.62017 , -0.35483 , -0.2874  , -0.028005], dtype=float32)"
      ]
     },
     "execution_count": 31,
     "metadata": {},
     "output_type": "execute_result"
    }
   ],
   "source": [
    "embeddings_index['argentina']"
   ]
  },
  {
   "cell_type": "code",
   "execution_count": 24,
   "metadata": {
    "id": "Mk9GpdAgWhvl"
   },
   "outputs": [],
   "source": [
    "# Armar matriz de embedigs de 400000x100\n",
    "matrix_word_vectors = np.array(list(embeddings_index.values()))\n",
    "# Se puede armar en una linea haciendo un cast a np.array y un .values del dict\n",
    "# Aramr lista con vocabilario\n",
    "vocab_list = list(embeddings_index.keys())"
   ]
  },
  {
   "cell_type": "code",
   "execution_count": 21,
   "metadata": {
    "colab": {
     "base_uri": "https://localhost:8080/"
    },
    "id": "BbuEAc77CThT",
    "outputId": "12560c92-495b-4665-95ee-1883002d4368"
   },
   "outputs": [
    {
     "data": {
      "text/plain": [
       "dict_values"
      ]
     },
     "execution_count": 21,
     "metadata": {},
     "output_type": "execute_result"
    }
   ],
   "source": [
    "type(embeddings_index.values())"
   ]
  },
  {
   "cell_type": "code",
   "execution_count": 23,
   "metadata": {
    "colab": {
     "base_uri": "https://localhost:8080/"
    },
    "id": "MBdQbq_RCG2z",
    "outputId": "54314a44-c5ac-43f4-f7f5-b2ad19a2279f"
   },
   "outputs": [
    {
     "data": {
      "text/plain": [
       "(400000, 100)"
      ]
     },
     "execution_count": 23,
     "metadata": {},
     "output_type": "execute_result"
    }
   ],
   "source": [
    "matrix_word_vectors.shape"
   ]
  },
  {
   "cell_type": "code",
   "execution_count": 27,
   "metadata": {
    "id": "rXoyk7t7XHIb"
   },
   "outputs": [],
   "source": [
    "from sklearn.neighbors import NearestNeighbors"
   ]
  },
  {
   "cell_type": "markdown",
   "metadata": {
    "id": "VchnyUJYkYUB"
   },
   "source": [
    "# Entrenar un modelo de Nearest neighbours con los 20 primeros y distancia coseno"
   ]
  },
  {
   "cell_type": "code",
   "execution_count": 28,
   "metadata": {
    "id": "8TLQNKXtX06m"
   },
   "outputs": [],
   "source": [
    "nearest = NearestNeighbors( n_neighbors=20, metric='cosine')"
   ]
  },
  {
   "cell_type": "code",
   "execution_count": 29,
   "metadata": {
    "colab": {
     "base_uri": "https://localhost:8080/"
    },
    "id": "nkCbd6eyD9Ob",
    "outputId": "1ae35257-191f-46eb-ac95-ff53a04cbac6"
   },
   "outputs": [
    {
     "data": {
      "text/plain": [
       "NearestNeighbors(metric='cosine', n_neighbors=20)"
      ]
     },
     "execution_count": 29,
     "metadata": {},
     "output_type": "execute_result"
    }
   ],
   "source": [
    "# Entrenar modelo\n",
    "nearest.fit(matrix_word_vectors)"
   ]
  },
  {
   "cell_type": "code",
   "execution_count": null,
   "metadata": {
    "colab": {
     "base_uri": "https://localhost:8080/",
     "height": 68
    },
    "id": "9WvK0UfeX5GP",
    "outputId": "8681ea0a-9aee-464f-d303-825d65bd5272"
   },
   "outputs": [
    {
     "data": {
      "text/plain": [
       "NearestNeighbors(algorithm='auto', leaf_size=30, metric='cosine',\n",
       "                 metric_params=None, n_jobs=None, n_neighbors=20, p=2,\n",
       "                 radius=1.0)"
      ]
     },
     "execution_count": 18,
     "metadata": {
      "tags": []
     },
     "output_type": "execute_result"
    }
   ],
   "source": [
    "# Entrenar modelo\n",
    "nearest."
   ]
  },
  {
   "cell_type": "code",
   "execution_count": 61,
   "metadata": {
    "id": "oOQoMzyMjWC0"
   },
   "outputs": [],
   "source": [
    "def get_analogy(word1, word2, word3, embeddings_index=embeddings_index):\n",
    "  w1 = embeddings_index[word1]\n",
    "  w2 = embeddings_index[word2]\n",
    "  w3 = embeddings_index[word3]\n",
    "  cercanos = get_nearests_words(w1-w2+w3, vocab_list)\n",
    "  cercanos = [x for x in cercanos if x not in [word1, word2, word3]]\n",
    "  word4 = cercanos[0]\n",
    "  # word1 es a word2 como word3 es a word4\n",
    "  # Tiene que devolver word4\n",
    "  return word4"
   ]
  },
  {
   "cell_type": "code",
   "execution_count": 48,
   "metadata": {
    "id": "kQR4OqwrYLVn"
   },
   "outputs": [],
   "source": [
    "def get_nearests_words(vector, vocabulario, nearest=nearest):\n",
    "  # Dado un vector, tiene que devolver la lista de los 20 mas cercanos\n",
    "  words_list = []\n",
    "  cercanos = nearest.kneighbors(vector.reshape(1,-1))[1][0]\n",
    "  for i in cercanos:\n",
    "    words_list.append(vocabulario[i])\n",
    "  return words_list"
   ]
  },
  {
   "cell_type": "code",
   "execution_count": 80,
   "metadata": {
    "colab": {
     "base_uri": "https://localhost:8080/"
    },
    "id": "OmCSlN57MCdr",
    "outputId": "96ee5a7a-e043-489e-dbba-3f590bb9b4e4"
   },
   "outputs": [
    {
     "data": {
      "text/plain": [
       "['nadal',\n",
       " 'coria',\n",
       " 'federer',\n",
       " 'moya',\n",
       " 'nalbandian',\n",
       " 'djokovic',\n",
       " 'safin',\n",
       " 'escude',\n",
       " 'grosjean',\n",
       " 'roddick',\n",
       " 'soderling',\n",
       " 'sergi',\n",
       " 'bruguera',\n",
       " 'henman',\n",
       " 'corretja',\n",
       " 'verdasco',\n",
       " 'davydenko',\n",
       " 'kuerten',\n",
       " 'chela',\n",
       " 'ljubicic']"
      ]
     },
     "execution_count": 80,
     "metadata": {},
     "output_type": "execute_result"
    }
   ],
   "source": [
    "get_nearests_words(embeddings_index['messi']-embeddings_index['football']+embeddings_index['federer'], vocab_list)"
   ]
  },
  {
   "cell_type": "code",
   "execution_count": 63,
   "metadata": {
    "colab": {
     "base_uri": "https://localhost:8080/",
     "height": 35
    },
    "id": "KNXZZ-66MPMg",
    "outputId": "6a46fdf6-302c-49ca-9e93-a49de1abc492"
   },
   "outputs": [
    {
     "data": {
      "application/vnd.google.colaboratory.intrinsic+json": {
       "type": "string"
      },
      "text/plain": [
       "'ronaldinho'"
      ]
     },
     "execution_count": 63,
     "metadata": {},
     "output_type": "execute_result"
    }
   ],
   "source": [
    "get_analogy('messi', 'argentina', 'brazil')"
   ]
  },
  {
   "cell_type": "code",
   "execution_count": 49,
   "metadata": {
    "colab": {
     "base_uri": "https://localhost:8080/"
    },
    "id": "GCW5VePLLEzt",
    "outputId": "3af08f3b-190f-419f-9694-a3928a90da0a"
   },
   "outputs": [
    {
     "data": {
      "text/plain": [
       "['argentina',\n",
       " 'uruguay',\n",
       " 'brazil',\n",
       " 'chile',\n",
       " 'paraguay',\n",
       " 'spain',\n",
       " 'ecuador',\n",
       " 'mexico',\n",
       " 'portugal',\n",
       " 'peru',\n",
       " 'argentine',\n",
       " 'rica',\n",
       " 'venezuela',\n",
       " 'bolivia',\n",
       " 'costa',\n",
       " 'colombia',\n",
       " 'italy',\n",
       " 'honduras',\n",
       " 'aires',\n",
       " 'buenos']"
      ]
     },
     "execution_count": 49,
     "metadata": {},
     "output_type": "execute_result"
    }
   ],
   "source": [
    "get_nearests_words(embeddings_index['argentina'], vocab_list)"
   ]
  },
  {
   "cell_type": "code",
   "execution_count": 47,
   "metadata": {
    "colab": {
     "base_uri": "https://localhost:8080/"
    },
    "id": "03iCb97pIoum",
    "outputId": "97bdf59b-6743-42f1-8399-4ca8a7f55be8"
   },
   "outputs": [
    {
     "data": {
      "text/plain": [
       "2039"
      ]
     },
     "execution_count": 47,
     "metadata": {},
     "output_type": "execute_result"
    }
   ],
   "source": [
    "nearest.kneighbors(embeddings_index['argentina'].reshape(1,-1))[1][0][0]"
   ]
  },
  {
   "cell_type": "code",
   "execution_count": null,
   "metadata": {
    "id": "YIzTuoOnLSQf"
   },
   "outputs": [],
   "source": []
  },
  {
   "cell_type": "code",
   "execution_count": 40,
   "metadata": {
    "colab": {
     "base_uri": "https://localhost:8080/",
     "height": 35
    },
    "id": "bCwCzEB2Kuai",
    "outputId": "13c0fd3f-9a4c-4914-bb42-65fbce50da49"
   },
   "outputs": [
    {
     "data": {
      "application/vnd.google.colaboratory.intrinsic+json": {
       "type": "string"
      },
      "text/plain": [
       "'uruguay'"
      ]
     },
     "execution_count": 40,
     "metadata": {},
     "output_type": "execute_result"
    }
   ],
   "source": [
    "vocab_list[6841]"
   ]
  },
  {
   "cell_type": "code",
   "execution_count": 65,
   "metadata": {
    "id": "deLwGh_zkFbo"
   },
   "outputs": [],
   "source": [
    "# Probar las siguientes analogías\n",
    "#\n",
    "# woman -> man, queen -> ?\n",
    "# england -> london, france-> ?\n",
    "# woman -> women, man -> ?\n",
    "# messi -> soccer, federer -> ?\n",
    "# switzerland -> alps, argentina ->\n",
    "\n",
    "analogy_vector = get_analogy('switzerland', 'alps', 'argentina')"
   ]
  },
  {
   "cell_type": "code",
   "execution_count": 83,
   "metadata": {
    "colab": {
     "base_uri": "https://localhost:8080/",
     "height": 35
    },
    "id": "9F3wMdFUOSXG",
    "outputId": "0c4dd94a-927e-40ad-e4e5-1af3de62f13a"
   },
   "outputs": [
    {
     "data": {
      "application/vnd.google.colaboratory.intrinsic+json": {
       "type": "string"
      },
      "text/plain": [
       "'king'"
      ]
     },
     "execution_count": 83,
     "metadata": {},
     "output_type": "execute_result"
    }
   ],
   "source": [
    "get_analogy('queen', 'woman', 'man')"
   ]
  },
  {
   "cell_type": "code",
   "execution_count": 68,
   "metadata": {
    "colab": {
     "base_uri": "https://localhost:8080/",
     "height": 35
    },
    "id": "_fHbN7rpOY_B",
    "outputId": "4fb7ae00-b143-44cd-a430-bbcc7a92a18c"
   },
   "outputs": [
    {
     "data": {
      "application/vnd.google.colaboratory.intrinsic+json": {
       "type": "string"
      },
      "text/plain": [
       "'paris'"
      ]
     },
     "execution_count": 68,
     "metadata": {},
     "output_type": "execute_result"
    }
   ],
   "source": [
    "get_analogy('london', 'england', 'france')"
   ]
  },
  {
   "cell_type": "code",
   "execution_count": 76,
   "metadata": {
    "colab": {
     "base_uri": "https://localhost:8080/",
     "height": 35
    },
    "id": "g48zVacCOyHM",
    "outputId": "b56287ae-22c2-4897-a386-f892714a8600"
   },
   "outputs": [
    {
     "data": {
      "application/vnd.google.colaboratory.intrinsic+json": {
       "type": "string"
      },
      "text/plain": [
       "'asuncion'"
      ]
     },
     "execution_count": 76,
     "metadata": {},
     "output_type": "execute_result"
    }
   ],
   "source": [
    "get_analogy('brasilia', 'brazil', 'paraguay')"
   ]
  },
  {
   "cell_type": "code",
   "execution_count": 82,
   "metadata": {
    "colab": {
     "base_uri": "https://localhost:8080/",
     "height": 35
    },
    "id": "DPDDbpbUP0cV",
    "outputId": "151c4250-6b72-4b69-f7c2-57a9abeae549"
   },
   "outputs": [
    {
     "data": {
      "application/vnd.google.colaboratory.intrinsic+json": {
       "type": "string"
      },
      "text/plain": [
       "'coria'"
      ]
     },
     "execution_count": 82,
     "metadata": {},
     "output_type": "execute_result"
    }
   ],
   "source": [
    "get_analogy('messi', 'soccer', 'djokovic')"
   ]
  },
  {
   "cell_type": "code",
   "execution_count": null,
   "metadata": {
    "id": "AenbGy4nP72b"
   },
   "outputs": [],
   "source": []
  },
  {
   "cell_type": "code",
   "execution_count": 66,
   "metadata": {
    "colab": {
     "base_uri": "https://localhost:8080/",
     "height": 35
    },
    "id": "DRfPC75gOIuO",
    "outputId": "31d5ce92-8b56-41f5-b246-045a4d3d4ae1"
   },
   "outputs": [
    {
     "data": {
      "application/vnd.google.colaboratory.intrinsic+json": {
       "type": "string"
      },
      "text/plain": [
       "'uruguay'"
      ]
     },
     "execution_count": 66,
     "metadata": {},
     "output_type": "execute_result"
    }
   ],
   "source": [
    "analogy_vector"
   ]
  },
  {
   "cell_type": "code",
   "execution_count": null,
   "metadata": {
    "id": "FgWBU9zJlIPT"
   },
   "outputs": [],
   "source": [
    "# Probar función get_nearests_words\n",
    "get_nearests_words(analogy_vector)"
   ]
  },
  {
   "cell_type": "code",
   "execution_count": 85,
   "metadata": {
    "id": "DILrgwaRYVLu"
   },
   "outputs": [],
   "source": [
    "animals = ['dog',\n",
    " 'cat',\n",
    " 'dogs',\n",
    " 'pet',\n",
    " 'puppy',\n",
    " 'horse',\n",
    " 'animal',\n",
    " 'pig',\n",
    " 'boy',\n",
    " 'cats',\n",
    " 'rabbit',\n",
    " 'goat',\n",
    " 'sled',\n",
    " 'monkey',\n",
    " 'cow',\n",
    " 'rat',\n",
    " 'breed',\n",
    " 'mad',\n",
    " 'hound',\n",
    " 'bird']"
   ]
  },
  {
   "cell_type": "code",
   "execution_count": 86,
   "metadata": {
    "id": "oYFVs9ipnbbF"
   },
   "outputs": [],
   "source": [
    "transport = ['car',\n",
    " 'vehicle',\n",
    " 'truck',\n",
    " 'cars',\n",
    " 'driver',\n",
    " 'driving',\n",
    " 'motorcycle',\n",
    " 'vehicles',\n",
    " 'parked',\n",
    " 'bus',\n",
    " 'taxi',\n",
    " 'suv',\n",
    " 'pickup',\n",
    " 'jeep',\n",
    " 'mercedes',\n",
    " 'cab',\n",
    " 'bicycle',\n",
    " 'drivers',\n",
    " 'automobile',\n",
    " 'train']"
   ]
  },
  {
   "cell_type": "code",
   "execution_count": 87,
   "metadata": {
    "id": "yg9C7itHnhte"
   },
   "outputs": [],
   "source": [
    "countries = ['argentina',\n",
    " 'england',\n",
    " 'australia',\n",
    " 'spain',\n",
    " 'brazil',\n",
    " 'portugal',\n",
    " 'zealand',\n",
    " 'scotland',\n",
    " 'match',\n",
    " 'africa',\n",
    " 'wales',\n",
    " 'ireland',\n",
    " 'italy',\n",
    " 'matches',\n",
    " 'france',\n",
    " 'indies',\n",
    " 'uruguay',\n",
    " 'britain',\n",
    " 'netherlands',\n",
    " 'united']"
   ]
  },
  {
   "cell_type": "code",
   "execution_count": 88,
   "metadata": {
    "id": "7GWSToprnOxe"
   },
   "outputs": [],
   "source": [
    "professions = ['engineer',\n",
    " 'scientist',\n",
    " 'economist',\n",
    " 'professor',\n",
    " 'consultant',\n",
    " 'director',\n",
    " 'dr.',\n",
    " 'doctor',\n",
    " 'researcher',\n",
    " 'expert',\n",
    " 'physician',\n",
    " 'officer',\n",
    " 'surgeon',\n",
    " 'chief',\n",
    " 'assistant',\n",
    " 'specialist',\n",
    " 'associate',\n",
    " 'author',\n",
    " 'worked',\n",
    " 'psychologist']"
   ]
  },
  {
   "cell_type": "code",
   "execution_count": 89,
   "metadata": {
    "id": "q7yBjxNNn07R"
   },
   "outputs": [],
   "source": [
    "all_words = animals + transport + countries + professions"
   ]
  },
  {
   "cell_type": "code",
   "execution_count": 90,
   "metadata": {
    "id": "LMhEWApEoV_h"
   },
   "outputs": [],
   "source": [
    "vectors_subset = np.array([embeddings_index[word] for word in all_words])"
   ]
  },
  {
   "cell_type": "code",
   "execution_count": 91,
   "metadata": {
    "id": "7rOSh6UOoLPX"
   },
   "outputs": [],
   "source": [
    "from sklearn.manifold import TSNE"
   ]
  },
  {
   "cell_type": "code",
   "execution_count": 92,
   "metadata": {
    "id": "GhLy6ekooxkK"
   },
   "outputs": [],
   "source": [
    "tsne = TSNE(2, verbose=1)"
   ]
  },
  {
   "cell_type": "code",
   "execution_count": 93,
   "metadata": {
    "colab": {
     "base_uri": "https://localhost:8080/"
    },
    "id": "6-SH_MWXo0MA",
    "outputId": "d1dadaad-d898-41dc-b4e2-8929bfa18836"
   },
   "outputs": [
    {
     "name": "stderr",
     "output_type": "stream",
     "text": [
      "/usr/local/lib/python3.7/dist-packages/sklearn/manifold/_t_sne.py:783: FutureWarning: The default initialization in TSNE will change from 'random' to 'pca' in 1.2.\n",
      "  FutureWarning,\n",
      "/usr/local/lib/python3.7/dist-packages/sklearn/manifold/_t_sne.py:793: FutureWarning: The default learning rate in TSNE will change from 200.0 to 'auto' in 1.2.\n",
      "  FutureWarning,\n"
     ]
    },
    {
     "name": "stdout",
     "output_type": "stream",
     "text": [
      "[t-SNE] Computing 79 nearest neighbors...\n",
      "[t-SNE] Indexed 80 samples in 0.001s...\n",
      "[t-SNE] Computed neighbors for 80 samples in 0.013s...\n",
      "[t-SNE] Computed conditional probabilities for sample 80 / 80\n",
      "[t-SNE] Mean sigma: 3.172693\n",
      "[t-SNE] KL divergence after 250 iterations with early exaggeration: 52.271408\n",
      "[t-SNE] KL divergence after 1000 iterations: 0.229678\n",
      "CPU times: user 942 ms, sys: 88.7 ms, total: 1.03 s\n",
      "Wall time: 558 ms\n"
     ]
    }
   ],
   "source": [
    "%time embed_2d_tsne = tsne.fit_transform(vectors_subset)"
   ]
  },
  {
   "cell_type": "code",
   "execution_count": 94,
   "metadata": {
    "id": "refMfFQqo3-3"
   },
   "outputs": [],
   "source": [
    "from matplotlib import pyplot as plt"
   ]
  },
  {
   "cell_type": "code",
   "execution_count": 95,
   "metadata": {
    "colab": {
     "base_uri": "https://localhost:8080/",
     "height": 265
    },
    "id": "tpYyqyQTo-RU",
    "outputId": "723799d5-703d-4660-ce99-47a0943641ec"
   },
   "outputs": [
    {
     "data": {
      "image/png": "[encoded data removed]",
      "text/plain": [
       "<Figure size 432x288 with 1 Axes>"
      ]
     },
     "metadata": {
      "needs_background": "light"
     },
     "output_type": "display_data"
    }
   ],
   "source": [
    "for i in range(4):\n",
    "  plt.scatter(embed_2d_tsne[i*20:(i+1)*20,0], embed_2d_tsne[i*20:(i+1)*20,1], c=f'C{i}')"
   ]
  },
  {
   "cell_type": "code",
   "execution_count": null,
   "metadata": {
    "id": "ITTs5oXipFtB"
   },
   "outputs": [],
   "source": []
  }
 ],
 "metadata": {
  "colab": {
   "name": "06-glove_tests.ipynb",
   "provenance": []
  },
  "kernelspec": {
   "display_name": "Python 3",
   "language": "python",
   "name": "python3"
  },
  "language_info": {
   "codemirror_mode": {
    "name": "ipython",
    "version": 3
   },
   "file_extension": ".py",
   "mimetype": "text/x-python",
   "name": "python",
   "nbconvert_exporter": "python",
   "pygments_lexer": "ipython3",
   "version": "3.8.3"
  }
 },
 "nbformat": 4,
 "nbformat_minor": 1
}
