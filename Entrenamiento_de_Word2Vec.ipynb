{
  "nbformat": 4,
  "nbformat_minor": 0,
  "metadata": {
    "colab": {
      "name": "Entrenamiento de Word2Vec.ipynb",
      "provenance": [],
      "collapsed_sections": []
    },
    "kernelspec": {
      "name": "python3",
      "display_name": "Python 3"
    },
    "accelerator": "GPU"
  },
  "cells": [
    {
      "cell_type": "markdown",
      "metadata": {
        "id": "svBLIbXkXOZ9"
      },
      "source": [
        "# Entrenamiento de W2V usando Keras\n",
        "\n",
        "Para entrenar W2V itilizando Keras seguiremos los siguientes pasos:\n",
        "\n",
        "1- Cargamos un dataset de artículos periodísticos.  \n",
        "2- Obtenemos el vocabulario a partir de las $num\\_words$ palabras que mas aparezcan.  \n",
        "3- Convertimos cada uno de los artículos en un vector de índices que representan a cada una de las palabras.  \n",
        "4_ A partr de los vectores de índices generamos samples positivos anotados con un \"1\" y samples negativos anotados con un \"0\".  \n",
        "5_ Armamos la red neuronal vista en la teoría y entrenamos con los pares generados en el punto anterior.  \n",
        "6_ Extraemos las matrices de embeddings de target y context de la red entrenada y las sumamos.  \n",
        "7_ Evaluamos los embeddings obtenidos corriendo una lista de tests de analogía."
      ]
    },
    {
      "cell_type": "markdown",
      "metadata": {
        "id": "1ASwKEAzaiPD"
      },
      "source": [
        "# 1- Carga de artículos periodísticos\n",
        "\n",
        "Cargamos los artículos de train del Twenty News Groups y visualizamos el primer artículo para ver su formato."
      ]
    },
    {
      "cell_type": "code",
      "metadata": {
        "id": "x510zO0pN_TI",
        "colab": {
          "base_uri": "https://localhost:8080/"
        },
        "outputId": "52a52556-64ef-43c2-a86f-c19ca8c4e599"
      },
      "source": [
        "from sklearn.datasets import fetch_20newsgroups\n",
        "newsgroups_train = fetch_20newsgroups(subset='train')\n",
        "print(newsgroups_train.data[0])"
      ],
      "execution_count": 1,
      "outputs": [
        {
          "output_type": "stream",
          "name": "stdout",
          "text": [
            "From: lerxst@wam.umd.edu (where's my thing)\n",
            "Subject: WHAT car is this!?\n",
            "Nntp-Posting-Host: rac3.wam.umd.edu\n",
            "Organization: University of Maryland, College Park\n",
            "Lines: 15\n",
            "\n",
            " I was wondering if anyone out there could enlighten me on this car I saw\n",
            "the other day. It was a 2-door sports car, looked to be from the late 60s/\n",
            "early 70s. It was called a Bricklin. The doors were really small. In addition,\n",
            "the front bumper was separate from the rest of the body. This is \n",
            "all I know. If anyone can tellme a model name, engine specs, years\n",
            "of production, where this car is made, history, or whatever info you\n",
            "have on this funky looking car, please e-mail.\n",
            "\n",
            "Thanks,\n",
            "- IL\n",
            "   ---- brought to you by your neighborhood Lerxst ----\n",
            "\n",
            "\n",
            "\n",
            "\n",
            "\n"
          ]
        }
      ]
    },
    {
      "cell_type": "markdown",
      "metadata": {
        "id": "KzZxCUj_bT5z"
      },
      "source": [
        "# 2- Obtenemos el vocabulario a partir de las  $num\\_words$  palabras que mas aparezcan."
      ]
    },
    {
      "cell_type": "code",
      "metadata": {
        "id": "fr33yGYmayDZ"
      },
      "source": [
        "num_words=30000 #defino la cantidad de palabras del vocabulario\n",
        "from keras.preprocessing.text import Tokenizer\n",
        "token_TNG=Tokenizer(num_words=num_words, #Cantidad de palabras en el vocabulario \n",
        "                    filters='!\"#$%&()*+,-./:;<=>?@[\\\\]^_`{|}~\\t\\n', # Caracteres que se eliminan del texto  antes de procesar\n",
        "                    lower=True,       # Si lower=true, se pasa el texto a minúsculas\n",
        "                    split=' ',        # Caracter que delimita las palabras en el texto. Típicamente es un espacio.\n",
        "                    char_level=False, # Si char_level=True, todos los caracteres son tratados como tokens distintos\n",
        "                    oov_token=\"UNK\")  # Token en el que se computaran las ocurrencias de palabras que estén fuera del vocabulario"
      ],
      "execution_count": 2,
      "outputs": []
    },
    {
      "cell_type": "code",
      "metadata": {
        "id": "33LrwlQxc2IO"
      },
      "source": [
        "token_TNG.fit_on_texts(newsgroups_train.data) # Calculamos el vocabulario en base a los textos proporcionados"
      ],
      "execution_count": 3,
      "outputs": []
    },
    {
      "cell_type": "code",
      "metadata": {
        "id": "TGEduBr6dKmt",
        "colab": {
          "base_uri": "https://localhost:8080/"
        },
        "outputId": "6291dd12-abad-46ac-d818-d8733504273e"
      },
      "source": [
        "token_TNG.index_word # Este diccionario nos dice qué palabra tiene asociado cada número de índice. Veamos las primeras cinco palabras.\n",
        "for idx in range(1,10):\n",
        "  print(idx, token_TNG.index_word[idx])"
      ],
      "execution_count": 4,
      "outputs": [
        {
          "output_type": "stream",
          "name": "stdout",
          "text": [
            "1 UNK\n",
            "2 the\n",
            "3 to\n",
            "4 of\n",
            "5 a\n",
            "6 'ax\n",
            "7 and\n",
            "8 in\n",
            "9 i\n"
          ]
        }
      ]
    },
    {
      "cell_type": "code",
      "metadata": {
        "id": "gRq13cV4dOYR",
        "colab": {
          "base_uri": "https://localhost:8080/"
        },
        "outputId": "326f4501-85e1-4bc5-9613-abf44d40ecbd"
      },
      "source": [
        "token_TNG.word_index # Este diccionario nos dice qué número de índice tiene asociada cada palabra. Veamos las primeras cinco palabras\n",
        "for idx, (key,value) in enumerate(token_TNG.word_index.items()):\n",
        "  print(key,value)\n",
        "  if idx == 10:\n",
        "    break;"
      ],
      "execution_count": 5,
      "outputs": [
        {
          "output_type": "stream",
          "name": "stdout",
          "text": [
            "UNK 1\n",
            "the 2\n",
            "to 3\n",
            "of 4\n",
            "a 5\n",
            "'ax 6\n",
            "and 7\n",
            "in 8\n",
            "i 9\n",
            "is 10\n",
            "that 11\n"
          ]
        }
      ]
    },
    {
      "cell_type": "markdown",
      "metadata": {
        "id": "JuNjpZ5JgW5A"
      },
      "source": [
        "Por curiosidad, podemos verificar que el vocabulario siga una distribución Zipf."
      ]
    },
    {
      "cell_type": "code",
      "metadata": {
        "id": "Cum382lneaeu",
        "colab": {
          "base_uri": "https://localhost:8080/"
        },
        "outputId": "246b0c45-f741-46da-bb99-22a7d0ebfb7d"
      },
      "source": [
        "token_TNG.word_counts # Esta lista contiene tuplas con (palabra, cantidad de ocurrencias)\n",
        "for idx,pair in enumerate(token_TNG.word_counts.items()):\n",
        "  print(pair)\n",
        "  if idx==10:\n",
        "    break"
      ],
      "execution_count": 6,
      "outputs": [
        {
          "output_type": "stream",
          "name": "stdout",
          "text": [
            "('from', 22668)\n",
            "('lerxst', 4)\n",
            "('wam', 81)\n",
            "('umd', 295)\n",
            "('edu', 21228)\n",
            "(\"where's\", 23)\n",
            "('my', 9728)\n",
            "('thing', 1527)\n",
            "('subject', 12261)\n",
            "('what', 9375)\n",
            "('car', 1297)\n"
          ]
        }
      ]
    },
    {
      "cell_type": "code",
      "metadata": {
        "id": "bcx6T4cffMFS",
        "colab": {
          "base_uri": "https://localhost:8080/",
          "height": 299
        },
        "outputId": "77fb9d25-fed9-4061-8a6e-ad4fd40bbaf8"
      },
      "source": [
        "# Ordenamos los valores de cuenta de menor a mayor y lo graficamos\n",
        "import numpy as np\n",
        "from matplotlib import pyplot as plt\n",
        "ordered_count=np.sort(np.array(list(token_TNG.word_counts.values())))[::-1]\n",
        "plt.loglog(ordered_count)\n",
        "plt.title(\"Word Frequency Ranking\")\n",
        "plt.ylabel(\"Word Count\")\n",
        "plt.xlabel(\"Rank Number\")\n",
        "plt.show()"
      ],
      "execution_count": 7,
      "outputs": [
        {
          "output_type": "display_data",
          "data": {
            "image/png": "[encoded data removed]",
            "text/plain": [
              "<Figure size 432x288 with 1 Axes>"
            ]
          },
          "metadata": {
            "needs_background": "light"
          }
        }
      ]
    },
    {
      "cell_type": "markdown",
      "metadata": {
        "id": "zlRkLgggq9Oe"
      },
      "source": [
        "## 3- Convertimos cada uno de los artículos en un vector de índices que representan a cada una de las palabras.\n",
        "\n",
        "Para ello usamos el método .texts_to_sequences del tokenizador."
      ]
    },
    {
      "cell_type": "code",
      "metadata": {
        "id": "FP3lNA5fq8B5"
      },
      "source": [
        "sequences_train=token_TNG.texts_to_sequences(newsgroups_train.data)"
      ],
      "execution_count": 8,
      "outputs": []
    },
    {
      "cell_type": "markdown",
      "metadata": {
        "id": "MjYyC7e8rZcV"
      },
      "source": [
        "Veamos cómo quedaron las diez primeras palabras del primer artículo convertido a índices."
      ]
    },
    {
      "cell_type": "code",
      "metadata": {
        "id": "OxN-5iX_rYl1",
        "colab": {
          "base_uri": "https://localhost:8080/"
        },
        "outputId": "b130daec-3dca-421e-e571-97a76e63d3d5"
      },
      "source": [
        "sequences_train[0][0:10]"
      ],
      "execution_count": 9,
      "outputs": [
        {
          "output_type": "execute_result",
          "data": {
            "text/plain": [
              "[15, 1, 4309, 1351, 16, 11127, 39, 251, 30, 43]"
            ]
          },
          "metadata": {},
          "execution_count": 9
        }
      ]
    },
    {
      "cell_type": "markdown",
      "metadata": {
        "id": "a1ZVSaYkrlXS"
      },
      "source": [
        "## 4_ A partr de los vectores de índices generamos samples positivos anotados con un \"1\" y samples negativos anotados con un \"0\"."
      ]
    },
    {
      "cell_type": "markdown",
      "metadata": {
        "id": "5qVo-PXblHF5"
      },
      "source": [
        "Para ello Word2Vec maneja dos parámetros:\n",
        "\n",
        "- La probabilidad de quedarnos con los positive samples de cada palabra que aparece en el texto.\n",
        "- La proporción entre positive samples tomados del texto y la cantidad de negative samples generados\n",
        "\n",
        "La probabilidad de quedarnos con los positive samples de cada palabra que aparece en el texto, los podemos obtener utilizando la función make_sampling_table de Keras, la cual recibe el tamaño del vocabulario y sampling_factor."
      ]
    },
    {
      "cell_type": "code",
      "metadata": {
        "id": "FgjAZvL9h8WC"
      },
      "source": [
        "# Generemos la tabla que nos dirá con qué probabilidad samplearemos a cada una de las palabras, dependiendo de su frecuencia de aparición.\n",
        "\n",
        "\n",
        "from keras.preprocessing.sequence import make_sampling_table\n",
        "#Generamos las tablas de sampleo\n",
        "sampling_table1=make_sampling_table(num_words, sampling_factor=1e-04)\n",
        "sampling_table2=make_sampling_table(num_words, sampling_factor=1e-05)\n",
        "sampling_table3=make_sampling_table(num_words, sampling_factor=1e-06)"
      ],
      "execution_count": 13,
      "outputs": []
    },
    {
      "cell_type": "code",
      "metadata": {
        "id": "3rldK8hykMoP",
        "colab": {
          "base_uri": "https://localhost:8080/",
          "height": 555
        },
        "outputId": "76ab1b55-7441-4b71-d6bb-1f9c4177ee8a"
      },
      "source": [
        "# Superpongamos la probabilidad de sampleo de cada palabra con su probabilidad de ocurrencia\n",
        "\n",
        "fig, ax1 = plt.subplots(figsize=[18,9])\n",
        "\n",
        "color = 'tab:red'\n",
        "ax1.set_xlabel(\"Rank Number\")\n",
        "ax1.set_ylabel('Word Count', color=color)\n",
        "ax1.loglog(range(1,num_words+1),ordered_count[0:num_words],c=color)\n",
        "ax1.tick_params(axis='y', labelcolor=color)\n",
        "\n",
        "ax2 = ax1.twinx()  # instantiate a second axes that shares the same x-axis\n",
        "\n",
        "color = 'tab:blue'\n",
        "ax2.set_ylabel('Sampling Probability', color=color)  # we already handled the x-label with ax1\n",
        "ax2.loglog(sampling_table1,'--',label=\"sampling_factor= $10^{-4}$\",c=color)\n",
        "ax2.loglog(sampling_table2,'-.',label=\"sampling_factor= $10^{-5}$\",c=color)\n",
        "ax2.loglog(sampling_table3,':',label=\"sampling_factor= $10^{-6}$\",c=color)\n",
        "ax2.tick_params(axis='y', labelcolor=color)\n",
        "\n",
        "plt.legend()\n",
        "plt.show()"
      ],
      "execution_count": 15,
      "outputs": [
        {
          "output_type": "display_data",
          "data": {
            "image/png": "[encoded data removed]",
            "text/plain": [
              "<Figure size 1296x648 with 2 Axes>"
            ]
          },
          "metadata": {
            "needs_background": "light"
          }
        }
      ]
    },
    {
      "cell_type": "markdown",
      "metadata": {
        "id": "_o7wtqCir5TQ"
      },
      "source": [
        "Con la tabla de sampleo generada podemos obtener los pares utilizando la función skipgram de keras.\n",
        "\n",
        "En principio, transformemos un solo artículo para ver qué nos devuelve. Correr las siguientes celdas varias veces para verificar que el sampling que se hace es siempre distinto."
      ]
    },
    {
      "cell_type": "code",
      "metadata": {
        "id": "G6oG30-2mqp1"
      },
      "source": [
        "from keras.preprocessing.sequence import skipgrams\n",
        "pairs,labels=skipgrams(sequences_train[0],  # sequencia a Samplear\n",
        "          num_words, # Cantidad de palabras en el vocabulario\n",
        "          window_size=4, # Tamaño de la ventana de contexto\n",
        "          negative_samples=0.75, # Proporción de negative samples con respecto a los positive samples\n",
        "          shuffle=False, # Mezcla los samples luego de obtenerlos\n",
        "          sampling_table=sampling_table2) #Probabilidad de quedarse con la palabra cuando aparece en el texto"
      ],
      "execution_count": 19,
      "outputs": []
    },
    {
      "cell_type": "markdown",
      "metadata": {
        "id": "DInsB-W0tLco"
      },
      "source": [
        "Recordemos los primeros valores de la secuencia"
      ]
    },
    {
      "cell_type": "code",
      "metadata": {
        "id": "huyXjm1xs7GH",
        "colab": {
          "base_uri": "https://localhost:8080/"
        },
        "outputId": "c68430d2-1439-4f5c-e8fb-3df4c01bcc8f"
      },
      "source": [
        "sequences_train[0][0:15]"
      ],
      "execution_count": 20,
      "outputs": [
        {
          "output_type": "execute_result",
          "data": {
            "text/plain": [
              "[15, 1, 4309, 1351, 16, 11127, 39, 251, 30, 43, 299, 10, 18, 96, 79]"
            ]
          },
          "metadata": {},
          "execution_count": 20
        }
      ]
    },
    {
      "cell_type": "code",
      "metadata": {
        "id": "ovmyuxL2tU4g",
        "colab": {
          "base_uri": "https://localhost:8080/"
        },
        "outputId": "2c3d9043-82a5-4cda-e66b-0f2522e39ca0"
      },
      "source": [
        "# Veamos los primeros samples si corresponden con la secuencia, y cómo son sus labels\n",
        "pairs[0:15]"
      ],
      "execution_count": 21,
      "outputs": [
        {
          "output_type": "execute_result",
          "data": {
            "text/plain": [
              "[[4309, 15],\n",
              " [4309, 1],\n",
              " [4309, 1351],\n",
              " [4309, 16],\n",
              " [4309, 11127],\n",
              " [4309, 39],\n",
              " [11127, 1],\n",
              " [11127, 4309],\n",
              " [11127, 1351],\n",
              " [11127, 16],\n",
              " [11127, 39],\n",
              " [11127, 251],\n",
              " [11127, 30],\n",
              " [11127, 43],\n",
              " [39, 4309]]"
            ]
          },
          "metadata": {},
          "execution_count": 21
        }
      ]
    },
    {
      "cell_type": "code",
      "metadata": {
        "id": "5fZWq_MKtafa",
        "colab": {
          "base_uri": "https://localhost:8080/"
        },
        "outputId": "165f9c7a-438c-4aba-915d-7b6dae0c0bb6"
      },
      "source": [
        "labels[0:15]"
      ],
      "execution_count": 22,
      "outputs": [
        {
          "output_type": "execute_result",
          "data": {
            "text/plain": [
              "[1, 1, 1, 1, 1, 1, 1, 1, 1, 1, 1, 1, 1, 1, 1]"
            ]
          },
          "metadata": {},
          "execution_count": 22
        }
      ]
    },
    {
      "cell_type": "code",
      "metadata": {
        "id": "d1ak68rLt3BC",
        "colab": {
          "base_uri": "https://localhost:8080/"
        },
        "outputId": "ce1728e4-7e64-4c38-a476-f7a29d209f33"
      },
      "source": [
        "# los últimos samples de la lista de pares son samples negativos, que se generan en forma aleatoria\n",
        "pairs[-1:-15:-1]"
      ],
      "execution_count": 23,
      "outputs": [
        {
          "output_type": "execute_result",
          "data": {
            "text/plain": [
              "[[8165, 11157],\n",
              " [1342, 12394],\n",
              " [1768, 11563],\n",
              " [7861, 24786],\n",
              " [9880, 25234],\n",
              " [15449, 12720],\n",
              " [8165, 26236],\n",
              " [4309, 28892],\n",
              " [23734, 9501],\n",
              " [2267, 5418],\n",
              " [829, 1184],\n",
              " [1079, 11845],\n",
              " [2805, 12045],\n",
              " [22, 11995]]"
            ]
          },
          "metadata": {},
          "execution_count": 23
        }
      ]
    },
    {
      "cell_type": "code",
      "metadata": {
        "id": "qrGjNoK2uBo7",
        "colab": {
          "base_uri": "https://localhost:8080/"
        },
        "outputId": "5d5542eb-fb29-47a6-ed45-298347220c8e"
      },
      "source": [
        "labels[-1:-15:-1]"
      ],
      "execution_count": 24,
      "outputs": [
        {
          "output_type": "execute_result",
          "data": {
            "text/plain": [
              "[0, 0, 0, 0, 0, 0, 0, 0, 0, 0, 0, 0, 0, 0]"
            ]
          },
          "metadata": {},
          "execution_count": 24
        }
      ]
    },
    {
      "cell_type": "markdown",
      "metadata": {
        "id": "yhN5YOXevY3d"
      },
      "source": [
        "Verifiquemos la proporción que hay entre positive samples y negative samples."
      ]
    },
    {
      "cell_type": "code",
      "metadata": {
        "id": "wbJQxtz2vXnk",
        "colab": {
          "base_uri": "https://localhost:8080/"
        },
        "outputId": "69101677-1e0a-4131-dc39-515d1cdf5c47"
      },
      "source": [
        "sum(np.array(labels)==0)/sum(np.array(labels)==1)"
      ],
      "execution_count": 25,
      "outputs": [
        {
          "output_type": "execute_result",
          "data": {
            "text/plain": [
              "0.7487179487179487"
            ]
          },
          "metadata": {},
          "execution_count": 25
        }
      ]
    },
    {
      "cell_type": "markdown",
      "metadata": {
        "id": "Kv6AgNcxuHod"
      },
      "source": [
        "Si bien no es del todo correcto, se suelen hacer un join de todas las secuencias y se pasa a skipgrams como si fuera una secuencia sola."
      ]
    },
    {
      "cell_type": "code",
      "metadata": {
        "id": "SahEgByUwthR"
      },
      "source": [
        "joint_seqs=list()\n",
        "for sequence in sequences_train:\n",
        "  joint_seqs += sequence"
      ],
      "execution_count": 26,
      "outputs": []
    },
    {
      "cell_type": "code",
      "metadata": {
        "id": "P2Jl-cqaxglt",
        "colab": {
          "base_uri": "https://localhost:8080/"
        },
        "outputId": "07cd2895-43c6-45c2-bdc8-b90bb141af18"
      },
      "source": [
        "# Cantidad de tokens\n",
        "len(joint_seqs)"
      ],
      "execution_count": 27,
      "outputs": [
        {
          "output_type": "execute_result",
          "data": {
            "text/plain": [
              "3663183"
            ]
          },
          "metadata": {},
          "execution_count": 27
        }
      ]
    },
    {
      "cell_type": "code",
      "metadata": {
        "id": "fo54aGCOuFrq"
      },
      "source": [
        "pairs,labels=skipgrams(joint_seqs,  # sequencia a Samplear\n",
        "          num_words, # Cantidad de palabras en el vocabulario\n",
        "          window_size=5, # Tamaño de la ventana de contexto\n",
        "          negative_samples=0.75, # Proporción de negative samples con respecto a los positive samples\n",
        "          shuffle=False, # Mezcla los samples luego de obtenerlos\n",
        "          sampling_table=sampling_table2) #Probabilidad de quedarse con la palabra cuando aparece en el texto"
      ],
      "execution_count": 28,
      "outputs": []
    },
    {
      "cell_type": "code",
      "metadata": {
        "id": "b6QGtZEcuzAR",
        "colab": {
          "base_uri": "https://localhost:8080/"
        },
        "outputId": "2ddbcaea-f1ce-41d1-a45a-f897183050d4"
      },
      "source": [
        "# Cantidad de pares\n",
        "len(pairs)"
      ],
      "execution_count": 29,
      "outputs": [
        {
          "output_type": "execute_result",
          "data": {
            "text/plain": [
              "15028039"
            ]
          },
          "metadata": {},
          "execution_count": 29
        }
      ]
    },
    {
      "cell_type": "code",
      "metadata": {
        "id": "tN14Ba6bxl1r",
        "colab": {
          "base_uri": "https://localhost:8080/"
        },
        "outputId": "297ea51f-2c0b-445e-dfd0-eddc3bb7170a"
      },
      "source": [
        "# Cantidad de labels\n",
        "len(labels)"
      ],
      "execution_count": 30,
      "outputs": [
        {
          "output_type": "execute_result",
          "data": {
            "text/plain": [
              "15028039"
            ]
          },
          "metadata": {},
          "execution_count": 30
        }
      ]
    },
    {
      "cell_type": "markdown",
      "metadata": {
        "id": "d9dbWvMUy0gK"
      },
      "source": [
        "## 5_ Armamos la red neuronal vista en la teoría y entrenamos con los pares generados en el punto anterior."
      ]
    },
    {
      "cell_type": "code",
      "metadata": {
        "id": "TZl8lT8AxyiT"
      },
      "source": [
        "from keras.layers import Embedding, Dot, Input,Reshape, Dot, Activation\n",
        "from keras.models import Model\n",
        "d=300\n",
        "\n",
        "input_target = Input(shape=(1,), dtype='int32')\n",
        "input_context = Input(shape=(1,), dtype='int32')\n",
        "\n",
        "target_embedding = Embedding(num_words, d, input_length=1, name='t_embedding')\n",
        "context_embedding = Embedding(num_words, d, input_length=1, name='c_embedding')\n",
        "target = target_embedding(input_target)\n",
        "target = Reshape((d, 1))(target)\n",
        "context = context_embedding(input_context)\n",
        "context = Reshape((d, 1))(context)\n",
        "\n",
        "# now perform the dot product operation to get a similarity measure\n",
        "dot_product = Dot(axes=1)([target, context])\n",
        "dot_product = Reshape((1,))(dot_product)\n",
        "# add the sigmoid output layer\n",
        "output = Activation(\"sigmoid\")(dot_product)"
      ],
      "execution_count": 31,
      "outputs": []
    },
    {
      "cell_type": "code",
      "metadata": {
        "id": "zEIQ4V3czNmO",
        "colab": {
          "base_uri": "https://localhost:8080/"
        },
        "outputId": "05ccc69d-8005-4a41-dc51-7eb8020468dc"
      },
      "source": [
        "model = Model(inputs=[input_target, input_context], outputs=output)\n",
        "model.compile(loss='binary_crossentropy', optimizer='Adam')\n",
        "model.summary()"
      ],
      "execution_count": 32,
      "outputs": [
        {
          "output_type": "stream",
          "name": "stdout",
          "text": [
            "Model: \"model\"\n",
            "__________________________________________________________________________________________________\n",
            " Layer (type)                   Output Shape         Param #     Connected to                     \n",
            "==================================================================================================\n",
            " input_1 (InputLayer)           [(None, 1)]          0           []                               \n",
            "                                                                                                  \n",
            " input_2 (InputLayer)           [(None, 1)]          0           []                               \n",
            "                                                                                                  \n",
            " t_embedding (Embedding)        (None, 1, 300)       9000000     ['input_1[0][0]']                \n",
            "                                                                                                  \n",
            " c_embedding (Embedding)        (None, 1, 300)       9000000     ['input_2[0][0]']                \n",
            "                                                                                                  \n",
            " reshape (Reshape)              (None, 300, 1)       0           ['t_embedding[0][0]']            \n",
            "                                                                                                  \n",
            " reshape_1 (Reshape)            (None, 300, 1)       0           ['c_embedding[0][0]']            \n",
            "                                                                                                  \n",
            " dot (Dot)                      (None, 1, 1)         0           ['reshape[0][0]',                \n",
            "                                                                  'reshape_1[0][0]']              \n",
            "                                                                                                  \n",
            " reshape_2 (Reshape)            (None, 1)            0           ['dot[0][0]']                    \n",
            "                                                                                                  \n",
            " activation (Activation)        (None, 1)            0           ['reshape_2[0][0]']              \n",
            "                                                                                                  \n",
            "==================================================================================================\n",
            "Total params: 18,000,000\n",
            "Trainable params: 18,000,000\n",
            "Non-trainable params: 0\n",
            "__________________________________________________________________________________________________\n"
          ]
        }
      ]
    },
    {
      "cell_type": "code",
      "metadata": {
        "id": "gnshWAj94x5R"
      },
      "source": [
        "targets=np.array(pairs)[:,0]\n",
        "contexts=np.array(pairs)[:,1]"
      ],
      "execution_count": 33,
      "outputs": []
    },
    {
      "cell_type": "code",
      "metadata": {
        "id": "ygHXTN5S1Yy_",
        "colab": {
          "base_uri": "https://localhost:8080/",
          "height": 328
        },
        "outputId": "e70d9e27-b858-412e-f1cd-e416a02b0702"
      },
      "source": [
        "model.fit([targets, contexts],labels,verbose=1,epochs=3, batch_size=8192)"
      ],
      "execution_count": 34,
      "outputs": [
        {
          "output_type": "error",
          "ename": "ValueError",
          "evalue": "ignored",
          "traceback": [
            "\u001b[0;31m---------------------------------------------------------------------------\u001b[0m",
            "\u001b[0;31mValueError\u001b[0m                                Traceback (most recent call last)",
            "\u001b[0;32m<ipython-input-34-cfafbbd7b531>\u001b[0m in \u001b[0;36m<module>\u001b[0;34m()\u001b[0m\n\u001b[0;32m----> 1\u001b[0;31m \u001b[0mmodel\u001b[0m\u001b[0;34m.\u001b[0m\u001b[0mfit\u001b[0m\u001b[0;34m(\u001b[0m\u001b[0;34m[\u001b[0m\u001b[0mtargets\u001b[0m\u001b[0;34m,\u001b[0m \u001b[0mcontexts\u001b[0m\u001b[0;34m]\u001b[0m\u001b[0;34m,\u001b[0m\u001b[0mlabels\u001b[0m\u001b[0;34m,\u001b[0m\u001b[0mverbose\u001b[0m\u001b[0;34m=\u001b[0m\u001b[0;36m1\u001b[0m\u001b[0;34m,\u001b[0m\u001b[0mepochs\u001b[0m\u001b[0;34m=\u001b[0m\u001b[0;36m3\u001b[0m\u001b[0;34m,\u001b[0m \u001b[0mbatch_size\u001b[0m\u001b[0;34m=\u001b[0m\u001b[0;36m8192\u001b[0m\u001b[0;34m)\u001b[0m\u001b[0;34m\u001b[0m\u001b[0;34m\u001b[0m\u001b[0m\n\u001b[0m",
            "\u001b[0;32m/usr/local/lib/python3.7/dist-packages/keras/utils/traceback_utils.py\u001b[0m in \u001b[0;36merror_handler\u001b[0;34m(*args, **kwargs)\u001b[0m\n\u001b[1;32m     65\u001b[0m     \u001b[0;32mexcept\u001b[0m \u001b[0mException\u001b[0m \u001b[0;32mas\u001b[0m \u001b[0me\u001b[0m\u001b[0;34m:\u001b[0m  \u001b[0;31m# pylint: disable=broad-except\u001b[0m\u001b[0;34m\u001b[0m\u001b[0;34m\u001b[0m\u001b[0m\n\u001b[1;32m     66\u001b[0m       \u001b[0mfiltered_tb\u001b[0m \u001b[0;34m=\u001b[0m \u001b[0m_process_traceback_frames\u001b[0m\u001b[0;34m(\u001b[0m\u001b[0me\u001b[0m\u001b[0;34m.\u001b[0m\u001b[0m__traceback__\u001b[0m\u001b[0;34m)\u001b[0m\u001b[0;34m\u001b[0m\u001b[0;34m\u001b[0m\u001b[0m\n\u001b[0;32m---> 67\u001b[0;31m       \u001b[0;32mraise\u001b[0m \u001b[0me\u001b[0m\u001b[0;34m.\u001b[0m\u001b[0mwith_traceback\u001b[0m\u001b[0;34m(\u001b[0m\u001b[0mfiltered_tb\u001b[0m\u001b[0;34m)\u001b[0m \u001b[0;32mfrom\u001b[0m \u001b[0;32mNone\u001b[0m\u001b[0;34m\u001b[0m\u001b[0;34m\u001b[0m\u001b[0m\n\u001b[0m\u001b[1;32m     68\u001b[0m     \u001b[0;32mfinally\u001b[0m\u001b[0;34m:\u001b[0m\u001b[0;34m\u001b[0m\u001b[0;34m\u001b[0m\u001b[0m\n\u001b[1;32m     69\u001b[0m       \u001b[0;32mdel\u001b[0m \u001b[0mfiltered_tb\u001b[0m\u001b[0;34m\u001b[0m\u001b[0;34m\u001b[0m\u001b[0m\n",
            "\u001b[0;32m/usr/local/lib/python3.7/dist-packages/keras/engine/data_adapter.py\u001b[0m in \u001b[0;36mselect_data_adapter\u001b[0;34m(x, y)\u001b[0m\n\u001b[1;32m    989\u001b[0m         \u001b[0;34m\"Failed to find data adapter that can handle \"\u001b[0m\u001b[0;34m\u001b[0m\u001b[0;34m\u001b[0m\u001b[0m\n\u001b[1;32m    990\u001b[0m         \"input: {}, {}\".format(\n\u001b[0;32m--> 991\u001b[0;31m             _type_name(x), _type_name(y)))\n\u001b[0m\u001b[1;32m    992\u001b[0m   \u001b[0;32melif\u001b[0m \u001b[0mlen\u001b[0m\u001b[0;34m(\u001b[0m\u001b[0madapter_cls\u001b[0m\u001b[0;34m)\u001b[0m \u001b[0;34m>\u001b[0m \u001b[0;36m1\u001b[0m\u001b[0;34m:\u001b[0m\u001b[0;34m\u001b[0m\u001b[0;34m\u001b[0m\u001b[0m\n\u001b[1;32m    993\u001b[0m     raise RuntimeError(\n",
            "\u001b[0;31mValueError\u001b[0m: Failed to find data adapter that can handle input: (<class 'list'> containing values of types {\"<class 'numpy.ndarray'>\"}), (<class 'list'> containing values of types {\"<class 'int'>\"})"
          ]
        }
      ]
    },
    {
      "cell_type": "markdown",
      "metadata": {
        "id": "tCYF3-F084x0"
      },
      "source": [
        "## 6_ Extraemos las matrices de embeddings de target y context de la red entrenada y las sumamos."
      ]
    },
    {
      "cell_type": "code",
      "metadata": {
        "id": "qaE70hxu4qUl"
      },
      "source": [
        "embeddings=target_embedding.get_weights()[0] + context_embedding.get_weights()[0]\n",
        "embeddings=context_embedding.get_weights()[0]"
      ],
      "execution_count": null,
      "outputs": []
    },
    {
      "cell_type": "markdown",
      "metadata": {
        "id": "2BVBAtzI9L2n"
      },
      "source": [
        "Veamos cómo quedan los embeddings de algunas palabras"
      ]
    },
    {
      "cell_type": "code",
      "metadata": {
        "id": "zEf_h3o5WZd5"
      },
      "source": [
        "from sklearn.neighbors import NearestNeighbors\n",
        "neigh = NearestNeighbors(2, 0.4, metric=\"cosine\")"
      ],
      "execution_count": null,
      "outputs": []
    },
    {
      "cell_type": "code",
      "metadata": {
        "id": "1Pzz9MVnX8hS",
        "colab": {
          "base_uri": "https://localhost:8080/",
          "height": 68
        },
        "outputId": "20c33b26-ef37-43f3-c3ef-6c4b8d5eade9"
      },
      "source": [
        "neigh.fit(embeddings)"
      ],
      "execution_count": null,
      "outputs": [
        {
          "output_type": "execute_result",
          "data": {
            "text/plain": [
              "NearestNeighbors(algorithm='auto', leaf_size=30, metric='cosine',\n",
              "                 metric_params=None, n_jobs=None, n_neighbors=2, p=2,\n",
              "                 radius=0.4)"
            ]
          },
          "metadata": {
            "tags": []
          },
          "execution_count": 67
        }
      ]
    },
    {
      "cell_type": "code",
      "metadata": {
        "id": "0esPfrOdYRWg"
      },
      "source": [
        "def print_neighbors(w1,rev_dict,N=10):\n",
        "  neighbors=neigh.kneighbors(embeddings[token_TNG.word_index[w1]].reshape(1, -1), N, return_distance=False)\n",
        "  for word in neighbors[0]:\n",
        "    print(rev_dict[word])"
      ],
      "execution_count": null,
      "outputs": []
    },
    {
      "cell_type": "code",
      "metadata": {
        "id": "eKTXIUNSYmjz",
        "colab": {
          "base_uri": "https://localhost:8080/",
          "height": 163
        },
        "outputId": "764e772f-19c1-4f1f-f222-5f321a6a0cdd"
      },
      "source": [
        "print_neighbors(\"cars\",token_TNG.index_word)"
      ],
      "execution_count": null,
      "outputs": [
        {
          "output_type": "error",
          "ename": "NameError",
          "evalue": "ignored",
          "traceback": [
            "\u001b[0;31m---------------------------------------------------------------------------\u001b[0m",
            "\u001b[0;31mNameError\u001b[0m                                 Traceback (most recent call last)",
            "\u001b[0;32m<ipython-input-1-124393e36a46>\u001b[0m in \u001b[0;36m<module>\u001b[0;34m()\u001b[0m\n\u001b[0;32m----> 1\u001b[0;31m \u001b[0mprint_neighbors\u001b[0m\u001b[0;34m(\u001b[0m\u001b[0;34m\"cars\"\u001b[0m\u001b[0;34m,\u001b[0m\u001b[0mtoken_TNG\u001b[0m\u001b[0;34m.\u001b[0m\u001b[0mindex_word\u001b[0m\u001b[0;34m)\u001b[0m\u001b[0;34m\u001b[0m\u001b[0;34m\u001b[0m\u001b[0m\n\u001b[0m",
            "\u001b[0;31mNameError\u001b[0m: name 'print_neighbors' is not defined"
          ]
        }
      ]
    },
    {
      "cell_type": "code",
      "metadata": {
        "id": "Ltpp2BYHZjGi"
      },
      "source": [
        ""
      ],
      "execution_count": null,
      "outputs": []
    }
  ]
}